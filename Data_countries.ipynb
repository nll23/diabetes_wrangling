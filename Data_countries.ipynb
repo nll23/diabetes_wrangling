{
 "cells": [
  {
   "cell_type": "markdown",
   "metadata": {},
   "source": [
    "## Analysing two csv files related to total population and diabetes prevalance rate of all countries"
   ]
  },
  {
   "cell_type": "markdown",
   "metadata": {},
   "source": [
    "Loading all required libraries"
   ]
  },
  {
   "cell_type": "code",
   "execution_count": 1,
   "metadata": {},
   "outputs": [
    {
     "name": "stderr",
     "output_type": "stream",
     "text": [
      "-- Attaching packages --------------------------------------- tidyverse 1.2.1 --\n",
      "v ggplot2 3.0.0     v purrr   0.2.5\n",
      "v tibble  1.4.2     v dplyr   0.7.6\n",
      "v tidyr   0.8.1     v stringr 1.3.1\n",
      "v readr   1.1.1     v forcats 0.3.0\n",
      "-- Conflicts ------------------------------------------ tidyverse_conflicts() --\n",
      "x dplyr::filter() masks stats::filter()\n",
      "x dplyr::lag()    masks stats::lag()\n",
      "\n",
      "Attaching package: 'magrittr'\n",
      "\n",
      "The following object is masked from 'package:purrr':\n",
      "\n",
      "    set_names\n",
      "\n",
      "The following object is masked from 'package:tidyr':\n",
      "\n",
      "    extract\n",
      "\n",
      "\n",
      "Attaching package: 'glue'\n",
      "\n",
      "The following object is masked from 'package:dplyr':\n",
      "\n",
      "    collapse\n",
      "\n",
      "Loading required package: xml2\n",
      "\n",
      "Attaching package: 'rvest'\n",
      "\n",
      "The following object is masked from 'package:purrr':\n",
      "\n",
      "    pluck\n",
      "\n",
      "The following object is masked from 'package:readr':\n",
      "\n",
      "    guess_encoding\n",
      "\n"
     ]
    },
    {
     "ename": "ERROR",
     "evalue": "Error in library(htmltab): there is no package called 'htmltab'\n",
     "output_type": "error",
     "traceback": [
      "Error in library(htmltab): there is no package called 'htmltab'\nTraceback:\n",
      "1. library(htmltab)",
      "2. stop(txt, domain = NA)"
     ]
    }
   ],
   "source": [
    "library(tidyverse)\n",
    "library(magrittr) # better handling of pipes\n",
    "library(purrr) # to work with lists and map functions\n",
    "library(glue) # to paste strings \n",
    "library(stringr) # to hand strings\n",
    "library(rvest) # to make scraping easier\n",
    "library(polite) #polite version of rvest\n",
    "library(htmltab)\n",
    "library(dplyr)\n",
    "library(tidyr)"
   ]
  },
  {
   "cell_type": "code",
   "execution_count": 15,
   "metadata": {},
   "outputs": [],
   "source": [
    "library(visdat)\n",
    "library(skimr)\n",
    "library(readr)"
   ]
  },
  {
   "cell_type": "markdown",
   "metadata": {},
   "source": [
    " Reading the file for population of all countries. Total population is based on the de facto definition of population, which counts all residents regardless of legal status or citizenship. The values shown are midyear estimates. This data is sourced from following sources.\n",
    " (1) United Nations Population Division. World Population Prospects: 2017 Revision\n",
    " (2) Census reports and other statistical publications from national statistical offices\n",
    " (3) Eurostat: Demographic Statistics\n",
    " (4) United Nations Statistical Division. Population and Vital Statistics Reprot (various years)\n",
    " (5) U.S. Census Bureau: International Database \n",
    " (6) Secretariat of the Pacific Community: Statistics and Demography Programme."
   ]
  },
  {
   "cell_type": "code",
   "execution_count": 2,
   "metadata": {},
   "outputs": [
    {
     "name": "stderr",
     "output_type": "stream",
     "text": [
      "Parsed with column specification:\n",
      "cols(\n",
      "  .default = col_double(),\n",
      "  `Country Name` = col_character(),\n",
      "  `Country Code` = col_character(),\n",
      "  `Indicator Name` = col_character(),\n",
      "  `Indicator Code` = col_character()\n",
      ")\n",
      "See spec(...) for full column specifications.\n"
     ]
    }
   ],
   "source": [
    "population_df <- read_csv(file = \"API_SP.POP.TOTL_DS2_en_csv_v2_10134466.csv\")"
   ]
  },
  {
   "cell_type": "code",
   "execution_count": 19,
   "metadata": {},
   "outputs": [
    {
     "name": "stdout",
     "output_type": "stream",
     "text": [
      "Observations: 264\n",
      "Variables: 62\n",
      "$ `Country Name`   <chr> \"Aruba\", \"Afghanistan\", \"Angola\", \"Albania\", \"Ando...\n",
      "$ `Country Code`   <chr> \"ABW\", \"AFG\", \"AGO\", \"ALB\", \"AND\", \"ARB\", \"ARE\", \"...\n",
      "$ `Indicator Name` <chr> \"Population, total\", \"Population, total\", \"Populat...\n",
      "$ `Indicator Code` <chr> \"SP.POP.TOTL\", \"SP.POP.TOTL\", \"SP.POP.TOTL\", \"SP.P...\n",
      "$ `1960`           <dbl> 54211, 8996351, 5643182, 1608800, 13411, 92490932,...\n",
      "$ `1961`           <dbl> 55438, 9166764, 5753024, 1659800, 14375, 95044497,...\n",
      "$ `1962`           <dbl> 56225, 9345868, 5866061, 1711319, 15370, 97682294,...\n",
      "$ `1963`           <dbl> 56695, 9533954, 5980417, 1762621, 16412, 100411076...\n",
      "$ `1964`           <dbl> 57032, 9731361, 6093321, 1814135, 17469, 103239902...\n",
      "$ `1965`           <dbl> 57360, 9938414, 6203299, 1864791, 18549, 106174988...\n",
      "$ `1966`           <dbl> 57715, 10152331, 6309770, 1914573, 19647, 10923059...\n",
      "$ `1967`           <dbl> 58055, 10372630, 6414995, 1965598, 20758, 11240693...\n",
      "$ `1968`           <dbl> 58386, 10604346, 6523791, 2022272, 21890, 11568016...\n",
      "$ `1969`           <dbl> 58726, 10854428, 6642632, 2081695, 23058, 11901654...\n",
      "$ `1970`           <dbl> 59063, 11126123, 6776381, 2135479, 24276, 12239837...\n",
      "$ `1971`           <dbl> 59440, 11417825, 6927269, 2187853, 25559, 12580741...\n",
      "$ `1972`           <dbl> 59840, 11721940, 7094834, 2243126, 26892, 12926937...\n",
      "$ `1973`           <dbl> 60243, 12027822, 7277960, 2296752, 28232, 13286341...\n",
      "$ `1974`           <dbl> 60528, 12321541, 7474338, 2350124, 29520, 13669676...\n",
      "$ `1975`           <dbl> 60657, 12590286, 7682479, 2404831, 30705, 14084329...\n",
      "$ `1976`           <dbl> 60586, 12840299, 7900997, 2458526, 31777, 14533237...\n",
      "$ `1977`           <dbl> 60366, 13067538, 8130988, 2513546, 32771, 15013305...\n",
      "$ `1978`           <dbl> 60103, 13237734, 8376147, 2566266, 33737, 15518372...\n",
      "$ `1979`           <dbl> 59980, 13306695, 8641521, 2617832, 34818, 16039248...\n",
      "$ `1980`           <dbl> 60096, 13248370, 8929900, 2671997, 36067, 16568949...\n",
      "$ `1981`           <dbl> 60567, 13053954, 9244507, 2726056, 37500, 17105195...\n",
      "$ `1982`           <dbl> 61345, 12749645, 9582156, 2784278, 39114, 17649008...\n",
      "$ `1983`           <dbl> 62201, 12389269, 9931562, 2843960, 40867, 18200582...\n",
      "$ `1984`           <dbl> 62836, 12047115, 10277321, 2904429, 42706, 1876107...\n",
      "$ `1985`           <dbl> 63026, 11783050, 10609042, 2964762, 44600, 1933103...\n",
      "$ `1986`           <dbl> 62644, 11601041, 10921037, 3022635, 46517, 1990937...\n",
      "$ `1987`           <dbl> 61833, 11502761, 11218268, 3083605, 48455, 2049425...\n",
      "$ `1988`           <dbl> 61079, 11540888, 11513968, 3142336, 50434, 2108447...\n",
      "$ `1989`           <dbl> 61032, 11777609, 11827237, 3227943, 52448, 2167874...\n",
      "$ `1990`           <dbl> 62149, 12249114, 12171441, 3286542, 54509, 2247354...\n",
      "$ `1991`           <dbl> 64622, 12993657, 12553446, 3266790, 56671, 2308298...\n",
      "$ `1992`           <dbl> 68235, 13981231, 12968345, 3247039, 58888, 2350371...\n",
      "$ `1993`           <dbl> 72504, 15095099, 13403734, 3227287, 60971, 2412860...\n",
      "$ `1994`           <dbl> 76700, 16172719, 13841301, 3207536, 62677, 2474359...\n",
      "$ `1995`           <dbl> 80324, 17099541, 14268994, 3187784, 63850, 2550296...\n",
      "$ `1996`           <dbl> 83200, 17822884, 14682284, 3168033, 64360, 2608434...\n",
      "$ `1997`           <dbl> 85451, 18381605, 15088981, 3148281, 64327, 2665750...\n",
      "$ `1998`           <dbl> 87277, 18863999, 15504318, 3128530, 64142, 2722351...\n",
      "$ `1999`           <dbl> 89005, 19403676, 15949766, 3108778, 64370, 2779628...\n",
      "$ `2000`           <dbl> 90853, 20093756, 16440924, 3089027, 65390, 2838320...\n",
      "$ `2001`           <dbl> 92898, 20966463, 16983266, 3060173, 67341, 2898503...\n",
      "$ `2002`           <dbl> 94992, 21979923, 17572649, 3051010, 70049, 2960265...\n",
      "$ `2003`           <dbl> 97017, 23064851, 18203369, 3039616, 73182, 3024345...\n",
      "$ `2004`           <dbl> 98737, 24118979, 18865716, 3026939, 76244, 3091620...\n",
      "$ `2005`           <dbl> 100031, 25070798, 19552542, 3011487, 78867, 316264...\n",
      "$ `2006`           <dbl> 100832, 25893450, 20262399, 2992547, 80991, 323773...\n",
      "$ `2007`           <dbl> 101220, 26616792, 20997687, 2970017, 82683, 331653...\n",
      "$ `2008`           <dbl> 101353, 27294031, 21759420, 2947314, 83861, 339825...\n",
      "$ `2009`           <dbl> 101453, 28004331, 22549547, 2927519, 84462, 348145...\n",
      "$ `2010`           <dbl> 101669, 28803167, 23369131, 2913021, 84449, 356508...\n",
      "$ `2011`           <dbl> 102053, 29708599, 24218565, 2905195, 83751, 364895...\n",
      "$ `2012`           <dbl> 102577, 30696958, 25096150, 2900401, 82431, 373306...\n",
      "$ `2013`           <dbl> 103187, 31731688, 25998340, 2895092, 80788, 381702...\n",
      "$ `2014`           <dbl> 103795, 32758020, 26920466, 2889104, 79223, 390043...\n",
      "$ `2015`           <dbl> 104341, 33736494, 27859305, 2880703, 78014, 398304...\n",
      "$ `2016`           <dbl> 104822, 34656032, 28813463, 2876101, 77281, 406452...\n",
      "$ `2017`           <dbl> 105264, 35530081, 29784193, 2873457, 76965, 414491...\n"
     ]
    }
   ],
   "source": [
    "population_df %>% glimpse()"
   ]
  },
  {
   "cell_type": "markdown",
   "metadata": {},
   "source": [
    "Reading the file of diabetes prevalance rate of all countries. Diabetes prevalence refers to the percentage of people ages 20-79 who have type 1 or type 2 diabetes. This data is sourced from International Diabetes Federation, Diabetes Atlas."
   ]
  },
  {
   "cell_type": "code",
   "execution_count": 3,
   "metadata": {},
   "outputs": [
    {
     "name": "stderr",
     "output_type": "stream",
     "text": [
      "Parsed with column specification:\n",
      "cols(\n",
      "  .default = col_character(),\n",
      "  `2017` = col_double()\n",
      ")\n",
      "See spec(...) for full column specifications.\n"
     ]
    }
   ],
   "source": [
    "diabetes_df <- read_csv(file = \"API_SH.STA.DIAB.ZS_DS2_en_csv_v2_10136460.csv\")"
   ]
  },
  {
   "cell_type": "code",
   "execution_count": 4,
   "metadata": {},
   "outputs": [],
   "source": [
    "#Selecting only the data for 2017 since other columns dont have any value\n",
    "diabetes_df<-diabetes_df %>% select('Country Name','Country Code','Indicator Name','Indicator Code','2017')"
   ]
  },
  {
   "cell_type": "code",
   "execution_count": 95,
   "metadata": {},
   "outputs": [
    {
     "name": "stdout",
     "output_type": "stream",
     "text": [
      "Observations: 264\n",
      "Variables: 5\n",
      "$ `Country Name`   <chr> \"Aruba\", \"Afghanistan\", \"Angola\", \"Albania\", \"Ando...\n",
      "$ `Country Code`   <chr> \"ABW\", \"AFG\", \"AGO\", \"ALB\", \"AND\", \"ARB\", \"ARE\", \"...\n",
      "$ `Indicator Name` <chr> \"Diabetes prevalence (% of population ages 20 to 7...\n",
      "$ `Indicator Code` <chr> \"SH.STA.DIAB.ZS\", \"SH.STA.DIAB.ZS\", \"SH.STA.DIAB.Z...\n",
      "$ `2017`           <dbl> 11.62000, 9.59000, 3.94000, 10.08000, 7.97000, 12....\n"
     ]
    }
   ],
   "source": [
    "diabetes_df %>% glimpse()"
   ]
  },
  {
   "cell_type": "code",
   "execution_count": 5,
   "metadata": {},
   "outputs": [],
   "source": [
    "#Selecting only the required columns for joining\n",
    "population_2017_df<-population_df %>% select('Country Code','2017')"
   ]
  },
  {
   "cell_type": "code",
   "execution_count": 6,
   "metadata": {},
   "outputs": [
    {
     "data": {
      "text/html": [
       "<table>\n",
       "<thead><tr><th scope=col>Country Code</th><th scope=col>2017</th></tr></thead>\n",
       "<tbody>\n",
       "\t<tr><td>ABW      </td><td>   105264</td></tr>\n",
       "\t<tr><td>AFG      </td><td> 35530081</td></tr>\n",
       "\t<tr><td>AGO      </td><td> 29784193</td></tr>\n",
       "\t<tr><td>ALB      </td><td>  2873457</td></tr>\n",
       "\t<tr><td>AND      </td><td>    76965</td></tr>\n",
       "\t<tr><td>ARB      </td><td>414491886</td></tr>\n",
       "</tbody>\n",
       "</table>\n"
      ],
      "text/latex": [
       "\\begin{tabular}{r|ll}\n",
       " Country Code & 2017\\\\\n",
       "\\hline\n",
       "\t ABW       &    105264\\\\\n",
       "\t AFG       &  35530081\\\\\n",
       "\t AGO       &  29784193\\\\\n",
       "\t ALB       &   2873457\\\\\n",
       "\t AND       &     76965\\\\\n",
       "\t ARB       & 414491886\\\\\n",
       "\\end{tabular}\n"
      ],
      "text/markdown": [
       "\n",
       "Country Code | 2017 | \n",
       "|---|---|---|---|---|---|\n",
       "| ABW       |    105264 | \n",
       "| AFG       |  35530081 | \n",
       "| AGO       |  29784193 | \n",
       "| ALB       |   2873457 | \n",
       "| AND       |     76965 | \n",
       "| ARB       | 414491886 | \n",
       "\n",
       "\n"
      ],
      "text/plain": [
       "  Country Code 2017     \n",
       "1 ABW             105264\n",
       "2 AFG           35530081\n",
       "3 AGO           29784193\n",
       "4 ALB            2873457\n",
       "5 AND              76965\n",
       "6 ARB          414491886"
      ]
     },
     "metadata": {},
     "output_type": "display_data"
    }
   ],
   "source": [
    "population_2017_df %>%  head()"
   ]
  },
  {
   "cell_type": "code",
   "execution_count": 7,
   "metadata": {},
   "outputs": [],
   "source": [
    "diabetes_population<-diabetes_df %>% inner_join(population_2017_df,by=\"Country Code\") #%>% rename(replace=c(\"2017.y\"=\"TotalPopulation\")"
   ]
  },
  {
   "cell_type": "code",
   "execution_count": 8,
   "metadata": {},
   "outputs": [],
   "source": [
    "#Renaming the column of 2017 in two tables to Population_2017 and Diabetes_prevalance_2017 respectively\n",
    "population_2017_df  <- population_2017_df %>% rename(\"Population_2017\" = !!names(.[2]))\n",
    "diabetes_df  <- diabetes_df %>% rename(\"Diabetes_prevalance_2017\" = !!names(.[5]))"
   ]
  },
  {
   "cell_type": "code",
   "execution_count": 9,
   "metadata": {},
   "outputs": [
    {
     "data": {
      "text/html": [
       "<table>\n",
       "<thead><tr><th scope=col>Country Code</th><th scope=col>Population_2017</th></tr></thead>\n",
       "<tbody>\n",
       "\t<tr><td>ABW      </td><td>   105264</td></tr>\n",
       "\t<tr><td>AFG      </td><td> 35530081</td></tr>\n",
       "\t<tr><td>AGO      </td><td> 29784193</td></tr>\n",
       "\t<tr><td>ALB      </td><td>  2873457</td></tr>\n",
       "\t<tr><td>AND      </td><td>    76965</td></tr>\n",
       "\t<tr><td>ARB      </td><td>414491886</td></tr>\n",
       "</tbody>\n",
       "</table>\n"
      ],
      "text/latex": [
       "\\begin{tabular}{r|ll}\n",
       " Country Code & Population\\_2017\\\\\n",
       "\\hline\n",
       "\t ABW       &    105264\\\\\n",
       "\t AFG       &  35530081\\\\\n",
       "\t AGO       &  29784193\\\\\n",
       "\t ALB       &   2873457\\\\\n",
       "\t AND       &     76965\\\\\n",
       "\t ARB       & 414491886\\\\\n",
       "\\end{tabular}\n"
      ],
      "text/markdown": [
       "\n",
       "Country Code | Population_2017 | \n",
       "|---|---|---|---|---|---|\n",
       "| ABW       |    105264 | \n",
       "| AFG       |  35530081 | \n",
       "| AGO       |  29784193 | \n",
       "| ALB       |   2873457 | \n",
       "| AND       |     76965 | \n",
       "| ARB       | 414491886 | \n",
       "\n",
       "\n"
      ],
      "text/plain": [
       "  Country Code Population_2017\n",
       "1 ABW             105264      \n",
       "2 AFG           35530081      \n",
       "3 AGO           29784193      \n",
       "4 ALB            2873457      \n",
       "5 AND              76965      \n",
       "6 ARB          414491886      "
      ]
     },
     "metadata": {},
     "output_type": "display_data"
    },
    {
     "data": {
      "text/html": [
       "<table>\n",
       "<thead><tr><th scope=col>Country Name</th><th scope=col>Country Code</th><th scope=col>Indicator Name</th><th scope=col>Indicator Code</th><th scope=col>Diabetes_prevalance_2017</th></tr></thead>\n",
       "<tbody>\n",
       "\t<tr><td>Aruba                                              </td><td>ABW                                                </td><td>Diabetes prevalence (% of population ages 20 to 79)</td><td>SH.STA.DIAB.ZS                                     </td><td>11.62000                                           </td></tr>\n",
       "\t<tr><td>Afghanistan                                        </td><td>AFG                                                </td><td>Diabetes prevalence (% of population ages 20 to 79)</td><td>SH.STA.DIAB.ZS                                     </td><td> 9.59000                                           </td></tr>\n",
       "\t<tr><td>Angola                                             </td><td>AGO                                                </td><td>Diabetes prevalence (% of population ages 20 to 79)</td><td>SH.STA.DIAB.ZS                                     </td><td> 3.94000                                           </td></tr>\n",
       "\t<tr><td>Albania                                            </td><td>ALB                                                </td><td>Diabetes prevalence (% of population ages 20 to 79)</td><td>SH.STA.DIAB.ZS                                     </td><td>10.08000                                           </td></tr>\n",
       "\t<tr><td>Andorra                                            </td><td>AND                                                </td><td>Diabetes prevalence (% of population ages 20 to 79)</td><td>SH.STA.DIAB.ZS                                     </td><td> 7.97000                                           </td></tr>\n",
       "\t<tr><td>Arab World                                         </td><td>ARB                                                </td><td>Diabetes prevalence (% of population ages 20 to 79)</td><td>SH.STA.DIAB.ZS                                     </td><td>12.07702                                           </td></tr>\n",
       "</tbody>\n",
       "</table>\n"
      ],
      "text/latex": [
       "\\begin{tabular}{r|lllll}\n",
       " Country Name & Country Code & Indicator Name & Indicator Code & Diabetes\\_prevalance\\_2017\\\\\n",
       "\\hline\n",
       "\t Aruba                                                 & ABW                                                   & Diabetes prevalence (\\% of population ages 20 to 79) & SH.STA.DIAB.ZS                                        & 11.62000                                             \\\\\n",
       "\t Afghanistan                                           & AFG                                                   & Diabetes prevalence (\\% of population ages 20 to 79) & SH.STA.DIAB.ZS                                        &  9.59000                                             \\\\\n",
       "\t Angola                                                & AGO                                                   & Diabetes prevalence (\\% of population ages 20 to 79) & SH.STA.DIAB.ZS                                        &  3.94000                                             \\\\\n",
       "\t Albania                                               & ALB                                                   & Diabetes prevalence (\\% of population ages 20 to 79) & SH.STA.DIAB.ZS                                        & 10.08000                                             \\\\\n",
       "\t Andorra                                               & AND                                                   & Diabetes prevalence (\\% of population ages 20 to 79) & SH.STA.DIAB.ZS                                        &  7.97000                                             \\\\\n",
       "\t Arab World                                            & ARB                                                   & Diabetes prevalence (\\% of population ages 20 to 79) & SH.STA.DIAB.ZS                                        & 12.07702                                             \\\\\n",
       "\\end{tabular}\n"
      ],
      "text/markdown": [
       "\n",
       "Country Name | Country Code | Indicator Name | Indicator Code | Diabetes_prevalance_2017 | \n",
       "|---|---|---|---|---|---|\n",
       "| Aruba                                               | ABW                                                 | Diabetes prevalence (% of population ages 20 to 79) | SH.STA.DIAB.ZS                                      | 11.62000                                            | \n",
       "| Afghanistan                                         | AFG                                                 | Diabetes prevalence (% of population ages 20 to 79) | SH.STA.DIAB.ZS                                      |  9.59000                                            | \n",
       "| Angola                                              | AGO                                                 | Diabetes prevalence (% of population ages 20 to 79) | SH.STA.DIAB.ZS                                      |  3.94000                                            | \n",
       "| Albania                                             | ALB                                                 | Diabetes prevalence (% of population ages 20 to 79) | SH.STA.DIAB.ZS                                      | 10.08000                                            | \n",
       "| Andorra                                             | AND                                                 | Diabetes prevalence (% of population ages 20 to 79) | SH.STA.DIAB.ZS                                      |  7.97000                                            | \n",
       "| Arab World                                          | ARB                                                 | Diabetes prevalence (% of population ages 20 to 79) | SH.STA.DIAB.ZS                                      | 12.07702                                            | \n",
       "\n",
       "\n"
      ],
      "text/plain": [
       "  Country Name Country Code Indicator Name                                     \n",
       "1 Aruba        ABW          Diabetes prevalence (% of population ages 20 to 79)\n",
       "2 Afghanistan  AFG          Diabetes prevalence (% of population ages 20 to 79)\n",
       "3 Angola       AGO          Diabetes prevalence (% of population ages 20 to 79)\n",
       "4 Albania      ALB          Diabetes prevalence (% of population ages 20 to 79)\n",
       "5 Andorra      AND          Diabetes prevalence (% of population ages 20 to 79)\n",
       "6 Arab World   ARB          Diabetes prevalence (% of population ages 20 to 79)\n",
       "  Indicator Code Diabetes_prevalance_2017\n",
       "1 SH.STA.DIAB.ZS 11.62000                \n",
       "2 SH.STA.DIAB.ZS  9.59000                \n",
       "3 SH.STA.DIAB.ZS  3.94000                \n",
       "4 SH.STA.DIAB.ZS 10.08000                \n",
       "5 SH.STA.DIAB.ZS  7.97000                \n",
       "6 SH.STA.DIAB.ZS 12.07702                "
      ]
     },
     "metadata": {},
     "output_type": "display_data"
    }
   ],
   "source": [
    "population_2017_df %>% head()\n",
    "diabetes_df %>% head()"
   ]
  },
  {
   "cell_type": "code",
   "execution_count": 28,
   "metadata": {},
   "outputs": [],
   "source": [
    "#Joining the population data and diabetes data\n",
    "diabetes_population<-diabetes_df %>% inner_join(population_2017_df,by=\"Country Code\") "
   ]
  },
  {
   "cell_type": "code",
   "execution_count": 29,
   "metadata": {},
   "outputs": [
    {
     "data": {
      "text/html": [
       "<table>\n",
       "<thead><tr><th scope=col>Country Name</th><th scope=col>Country Code</th><th scope=col>Indicator Name</th><th scope=col>Indicator Code</th><th scope=col>Diabetes_prevalance_2017</th><th scope=col>Population_2017</th></tr></thead>\n",
       "<tbody>\n",
       "\t<tr><td>Aruba                                              </td><td>ABW                                                </td><td>Diabetes prevalence (% of population ages 20 to 79)</td><td>SH.STA.DIAB.ZS                                     </td><td>11.62000                                           </td><td>   105264                                          </td></tr>\n",
       "\t<tr><td>Afghanistan                                        </td><td>AFG                                                </td><td>Diabetes prevalence (% of population ages 20 to 79)</td><td>SH.STA.DIAB.ZS                                     </td><td> 9.59000                                           </td><td> 35530081                                          </td></tr>\n",
       "\t<tr><td>Angola                                             </td><td>AGO                                                </td><td>Diabetes prevalence (% of population ages 20 to 79)</td><td>SH.STA.DIAB.ZS                                     </td><td> 3.94000                                           </td><td> 29784193                                          </td></tr>\n",
       "\t<tr><td>Albania                                            </td><td>ALB                                                </td><td>Diabetes prevalence (% of population ages 20 to 79)</td><td>SH.STA.DIAB.ZS                                     </td><td>10.08000                                           </td><td>  2873457                                          </td></tr>\n",
       "\t<tr><td>Andorra                                            </td><td>AND                                                </td><td>Diabetes prevalence (% of population ages 20 to 79)</td><td>SH.STA.DIAB.ZS                                     </td><td> 7.97000                                           </td><td>    76965                                          </td></tr>\n",
       "\t<tr><td>Arab World                                         </td><td>ARB                                                </td><td>Diabetes prevalence (% of population ages 20 to 79)</td><td>SH.STA.DIAB.ZS                                     </td><td>12.07702                                           </td><td>414491886                                          </td></tr>\n",
       "</tbody>\n",
       "</table>\n"
      ],
      "text/latex": [
       "\\begin{tabular}{r|llllll}\n",
       " Country Name & Country Code & Indicator Name & Indicator Code & Diabetes\\_prevalance\\_2017 & Population\\_2017\\\\\n",
       "\\hline\n",
       "\t Aruba                                                 & ABW                                                   & Diabetes prevalence (\\% of population ages 20 to 79) & SH.STA.DIAB.ZS                                        & 11.62000                                              &    105264                                            \\\\\n",
       "\t Afghanistan                                           & AFG                                                   & Diabetes prevalence (\\% of population ages 20 to 79) & SH.STA.DIAB.ZS                                        &  9.59000                                              &  35530081                                            \\\\\n",
       "\t Angola                                                & AGO                                                   & Diabetes prevalence (\\% of population ages 20 to 79) & SH.STA.DIAB.ZS                                        &  3.94000                                              &  29784193                                            \\\\\n",
       "\t Albania                                               & ALB                                                   & Diabetes prevalence (\\% of population ages 20 to 79) & SH.STA.DIAB.ZS                                        & 10.08000                                              &   2873457                                            \\\\\n",
       "\t Andorra                                               & AND                                                   & Diabetes prevalence (\\% of population ages 20 to 79) & SH.STA.DIAB.ZS                                        &  7.97000                                              &     76965                                            \\\\\n",
       "\t Arab World                                            & ARB                                                   & Diabetes prevalence (\\% of population ages 20 to 79) & SH.STA.DIAB.ZS                                        & 12.07702                                              & 414491886                                            \\\\\n",
       "\\end{tabular}\n"
      ],
      "text/markdown": [
       "\n",
       "Country Name | Country Code | Indicator Name | Indicator Code | Diabetes_prevalance_2017 | Population_2017 | \n",
       "|---|---|---|---|---|---|\n",
       "| Aruba                                               | ABW                                                 | Diabetes prevalence (% of population ages 20 to 79) | SH.STA.DIAB.ZS                                      | 11.62000                                            |    105264                                           | \n",
       "| Afghanistan                                         | AFG                                                 | Diabetes prevalence (% of population ages 20 to 79) | SH.STA.DIAB.ZS                                      |  9.59000                                            |  35530081                                           | \n",
       "| Angola                                              | AGO                                                 | Diabetes prevalence (% of population ages 20 to 79) | SH.STA.DIAB.ZS                                      |  3.94000                                            |  29784193                                           | \n",
       "| Albania                                             | ALB                                                 | Diabetes prevalence (% of population ages 20 to 79) | SH.STA.DIAB.ZS                                      | 10.08000                                            |   2873457                                           | \n",
       "| Andorra                                             | AND                                                 | Diabetes prevalence (% of population ages 20 to 79) | SH.STA.DIAB.ZS                                      |  7.97000                                            |     76965                                           | \n",
       "| Arab World                                          | ARB                                                 | Diabetes prevalence (% of population ages 20 to 79) | SH.STA.DIAB.ZS                                      | 12.07702                                            | 414491886                                           | \n",
       "\n",
       "\n"
      ],
      "text/plain": [
       "  Country Name Country Code Indicator Name                                     \n",
       "1 Aruba        ABW          Diabetes prevalence (% of population ages 20 to 79)\n",
       "2 Afghanistan  AFG          Diabetes prevalence (% of population ages 20 to 79)\n",
       "3 Angola       AGO          Diabetes prevalence (% of population ages 20 to 79)\n",
       "4 Albania      ALB          Diabetes prevalence (% of population ages 20 to 79)\n",
       "5 Andorra      AND          Diabetes prevalence (% of population ages 20 to 79)\n",
       "6 Arab World   ARB          Diabetes prevalence (% of population ages 20 to 79)\n",
       "  Indicator Code Diabetes_prevalance_2017 Population_2017\n",
       "1 SH.STA.DIAB.ZS 11.62000                    105264      \n",
       "2 SH.STA.DIAB.ZS  9.59000                  35530081      \n",
       "3 SH.STA.DIAB.ZS  3.94000                  29784193      \n",
       "4 SH.STA.DIAB.ZS 10.08000                   2873457      \n",
       "5 SH.STA.DIAB.ZS  7.97000                     76965      \n",
       "6 SH.STA.DIAB.ZS 12.07702                 414491886      "
      ]
     },
     "metadata": {},
     "output_type": "display_data"
    }
   ],
   "source": [
    "diabetes_population %>% head()"
   ]
  },
  {
   "cell_type": "code",
   "execution_count": 30,
   "metadata": {},
   "outputs": [],
   "source": [
    "#Converting the diabetes pevalance percentage to population\n",
    "diabetes_population<-diabetes_population %>% mutate(New_diabetes_population=(Diabetes_prevalance_2017/100)*Population_2017)"
   ]
  },
  {
   "cell_type": "code",
   "execution_count": 31,
   "metadata": {},
   "outputs": [
    {
     "data": {
      "text/html": [
       "<table>\n",
       "<thead><tr><th scope=col>Country Name</th><th scope=col>Country Code</th><th scope=col>Indicator Name</th><th scope=col>Indicator Code</th><th scope=col>Diabetes_prevalance_2017</th><th scope=col>Population_2017</th><th scope=col>New_diabetes_population</th></tr></thead>\n",
       "<tbody>\n",
       "\t<tr><td>Aruba                                              </td><td>ABW                                                </td><td>Diabetes prevalence (% of population ages 20 to 79)</td><td>SH.STA.DIAB.ZS                                     </td><td>11.62000                                           </td><td>   105264                                          </td><td>   12231.68                                        </td></tr>\n",
       "\t<tr><td>Afghanistan                                        </td><td>AFG                                                </td><td>Diabetes prevalence (% of population ages 20 to 79)</td><td>SH.STA.DIAB.ZS                                     </td><td> 9.59000                                           </td><td> 35530081                                          </td><td> 3407334.77                                        </td></tr>\n",
       "\t<tr><td>Angola                                             </td><td>AGO                                                </td><td>Diabetes prevalence (% of population ages 20 to 79)</td><td>SH.STA.DIAB.ZS                                     </td><td> 3.94000                                           </td><td> 29784193                                          </td><td> 1173497.20                                        </td></tr>\n",
       "\t<tr><td>Albania                                            </td><td>ALB                                                </td><td>Diabetes prevalence (% of population ages 20 to 79)</td><td>SH.STA.DIAB.ZS                                     </td><td>10.08000                                           </td><td>  2873457                                          </td><td>  289644.47                                        </td></tr>\n",
       "\t<tr><td>Andorra                                            </td><td>AND                                                </td><td>Diabetes prevalence (% of population ages 20 to 79)</td><td>SH.STA.DIAB.ZS                                     </td><td> 7.97000                                           </td><td>    76965                                          </td><td>    6134.11                                        </td></tr>\n",
       "\t<tr><td>Arab World                                         </td><td>ARB                                                </td><td>Diabetes prevalence (% of population ages 20 to 79)</td><td>SH.STA.DIAB.ZS                                     </td><td>12.07702                                           </td><td>414491886                                          </td><td>50058269.71                                        </td></tr>\n",
       "</tbody>\n",
       "</table>\n"
      ],
      "text/latex": [
       "\\begin{tabular}{r|lllllll}\n",
       " Country Name & Country Code & Indicator Name & Indicator Code & Diabetes\\_prevalance\\_2017 & Population\\_2017 & New\\_diabetes\\_population\\\\\n",
       "\\hline\n",
       "\t Aruba                                                 & ABW                                                   & Diabetes prevalence (\\% of population ages 20 to 79) & SH.STA.DIAB.ZS                                        & 11.62000                                              &    105264                                             &    12231.68                                          \\\\\n",
       "\t Afghanistan                                           & AFG                                                   & Diabetes prevalence (\\% of population ages 20 to 79) & SH.STA.DIAB.ZS                                        &  9.59000                                              &  35530081                                             &  3407334.77                                          \\\\\n",
       "\t Angola                                                & AGO                                                   & Diabetes prevalence (\\% of population ages 20 to 79) & SH.STA.DIAB.ZS                                        &  3.94000                                              &  29784193                                             &  1173497.20                                          \\\\\n",
       "\t Albania                                               & ALB                                                   & Diabetes prevalence (\\% of population ages 20 to 79) & SH.STA.DIAB.ZS                                        & 10.08000                                              &   2873457                                             &   289644.47                                          \\\\\n",
       "\t Andorra                                               & AND                                                   & Diabetes prevalence (\\% of population ages 20 to 79) & SH.STA.DIAB.ZS                                        &  7.97000                                              &     76965                                             &     6134.11                                          \\\\\n",
       "\t Arab World                                            & ARB                                                   & Diabetes prevalence (\\% of population ages 20 to 79) & SH.STA.DIAB.ZS                                        & 12.07702                                              & 414491886                                             & 50058269.71                                          \\\\\n",
       "\\end{tabular}\n"
      ],
      "text/markdown": [
       "\n",
       "Country Name | Country Code | Indicator Name | Indicator Code | Diabetes_prevalance_2017 | Population_2017 | New_diabetes_population | \n",
       "|---|---|---|---|---|---|\n",
       "| Aruba                                               | ABW                                                 | Diabetes prevalence (% of population ages 20 to 79) | SH.STA.DIAB.ZS                                      | 11.62000                                            |    105264                                           |    12231.68                                         | \n",
       "| Afghanistan                                         | AFG                                                 | Diabetes prevalence (% of population ages 20 to 79) | SH.STA.DIAB.ZS                                      |  9.59000                                            |  35530081                                           |  3407334.77                                         | \n",
       "| Angola                                              | AGO                                                 | Diabetes prevalence (% of population ages 20 to 79) | SH.STA.DIAB.ZS                                      |  3.94000                                            |  29784193                                           |  1173497.20                                         | \n",
       "| Albania                                             | ALB                                                 | Diabetes prevalence (% of population ages 20 to 79) | SH.STA.DIAB.ZS                                      | 10.08000                                            |   2873457                                           |   289644.47                                         | \n",
       "| Andorra                                             | AND                                                 | Diabetes prevalence (% of population ages 20 to 79) | SH.STA.DIAB.ZS                                      |  7.97000                                            |     76965                                           |     6134.11                                         | \n",
       "| Arab World                                          | ARB                                                 | Diabetes prevalence (% of population ages 20 to 79) | SH.STA.DIAB.ZS                                      | 12.07702                                            | 414491886                                           | 50058269.71                                         | \n",
       "\n",
       "\n"
      ],
      "text/plain": [
       "  Country Name Country Code Indicator Name                                     \n",
       "1 Aruba        ABW          Diabetes prevalence (% of population ages 20 to 79)\n",
       "2 Afghanistan  AFG          Diabetes prevalence (% of population ages 20 to 79)\n",
       "3 Angola       AGO          Diabetes prevalence (% of population ages 20 to 79)\n",
       "4 Albania      ALB          Diabetes prevalence (% of population ages 20 to 79)\n",
       "5 Andorra      AND          Diabetes prevalence (% of population ages 20 to 79)\n",
       "6 Arab World   ARB          Diabetes prevalence (% of population ages 20 to 79)\n",
       "  Indicator Code Diabetes_prevalance_2017 Population_2017\n",
       "1 SH.STA.DIAB.ZS 11.62000                    105264      \n",
       "2 SH.STA.DIAB.ZS  9.59000                  35530081      \n",
       "3 SH.STA.DIAB.ZS  3.94000                  29784193      \n",
       "4 SH.STA.DIAB.ZS 10.08000                   2873457      \n",
       "5 SH.STA.DIAB.ZS  7.97000                     76965      \n",
       "6 SH.STA.DIAB.ZS 12.07702                 414491886      \n",
       "  New_diabetes_population\n",
       "1    12231.68            \n",
       "2  3407334.77            \n",
       "3  1173497.20            \n",
       "4   289644.47            \n",
       "5     6134.11            \n",
       "6 50058269.71            "
      ]
     },
     "metadata": {},
     "output_type": "display_data"
    }
   ],
   "source": [
    "diabetes_population %>% head()"
   ]
  },
  {
   "cell_type": "code",
   "execution_count": 32,
   "metadata": {},
   "outputs": [
    {
     "data": {},
     "metadata": {},
     "output_type": "display_data"
    },
    {
     "data": {
      "image/png": "[encoded data removed]",
      "text/plain": [
       "plot without title"
      ]
     },
     "metadata": {},
     "output_type": "display_data"
    }
   ],
   "source": [
    "diabetes_population %>% vis_miss()"
   ]
  },
  {
   "cell_type": "code",
   "execution_count": 33,
   "metadata": {},
   "outputs": [],
   "source": [
    "diabetes_free_countries<-diabetes_population %>% filter(is.na(Diabetes_prevalance_2017) == TRUE) "
   ]
  },
  {
   "cell_type": "code",
   "execution_count": 34,
   "metadata": {},
   "outputs": [],
   "source": [
    "diabetes_free_countries<-diabetes_free_countries %>% drop_na(Population_2017)\n",
    "diabetes_population<-diabetes_population %>% drop_na(Population_2017)"
   ]
  },
  {
   "cell_type": "code",
   "execution_count": 27,
   "metadata": {},
   "outputs": [
    {
     "data": {
      "text/html": [
       "<table>\n",
       "<thead><tr><th scope=col>Country Name</th><th scope=col>Country Code</th><th scope=col>Indicator Name</th><th scope=col>Indicator Code</th><th scope=col>Diabetes_prevalance_2017</th><th scope=col>Population_2017</th><th scope=col>New_diabetes_population</th></tr></thead>\n",
       "<tbody>\n",
       "\t<tr><td>American Samoa                                     </td><td>ASM                                                </td><td>Diabetes prevalence (% of population ages 20 to 79)</td><td>SH.STA.DIAB.ZS                                     </td><td>NA                                                 </td><td>  55641                                            </td><td>NA                                                 </td></tr>\n",
       "\t<tr><td>Faroe Islands                                      </td><td>FRO                                                </td><td>Diabetes prevalence (% of population ages 20 to 79)</td><td>SH.STA.DIAB.ZS                                     </td><td>NA                                                 </td><td>  49290                                            </td><td>NA                                                 </td></tr>\n",
       "\t<tr><td>Gibraltar                                          </td><td>GIB                                                </td><td>Diabetes prevalence (% of population ages 20 to 79)</td><td>SH.STA.DIAB.ZS                                     </td><td>NA                                                 </td><td>  34571                                            </td><td>NA                                                 </td></tr>\n",
       "\t<tr><td>Isle of Man                                        </td><td>IMN                                                </td><td>Diabetes prevalence (% of population ages 20 to 79)</td><td>SH.STA.DIAB.ZS                                     </td><td>NA                                                 </td><td>  84287                                            </td><td>NA                                                 </td></tr>\n",
       "\t<tr><td>Macao SAR, China                                   </td><td>MAC                                                </td><td>Diabetes prevalence (% of population ages 20 to 79)</td><td>SH.STA.DIAB.ZS                                     </td><td>NA                                                 </td><td> 622567                                            </td><td>NA                                                 </td></tr>\n",
       "\t<tr><td>St. Martin (French part)                           </td><td>MAF                                                </td><td>Diabetes prevalence (% of population ages 20 to 79)</td><td>SH.STA.DIAB.ZS                                     </td><td>NA                                                 </td><td>  32125                                            </td><td>NA                                                 </td></tr>\n",
       "\t<tr><td>Northern Mariana Islands                           </td><td>MNP                                                </td><td>Diabetes prevalence (% of population ages 20 to 79)</td><td>SH.STA.DIAB.ZS                                     </td><td>NA                                                 </td><td>  55144                                            </td><td>NA                                                 </td></tr>\n",
       "\t<tr><td>Sint Maarten (Dutch part)                          </td><td>SXM                                                </td><td>Diabetes prevalence (% of population ages 20 to 79)</td><td>SH.STA.DIAB.ZS                                     </td><td>NA                                                 </td><td>  41109                                            </td><td>NA                                                 </td></tr>\n",
       "\t<tr><td>Turks and Caicos Islands                           </td><td>TCA                                                </td><td>Diabetes prevalence (% of population ages 20 to 79)</td><td>SH.STA.DIAB.ZS                                     </td><td>NA                                                 </td><td>  35446                                            </td><td>NA                                                 </td></tr>\n",
       "\t<tr><td>Kosovo                                             </td><td>XKX                                                </td><td>Diabetes prevalence (% of population ages 20 to 79)</td><td>SH.STA.DIAB.ZS                                     </td><td>NA                                                 </td><td>1830700                                            </td><td>NA                                                 </td></tr>\n",
       "</tbody>\n",
       "</table>\n"
      ],
      "text/latex": [
       "\\begin{tabular}{r|lllllll}\n",
       " Country Name & Country Code & Indicator Name & Indicator Code & Diabetes\\_prevalance\\_2017 & Population\\_2017 & New\\_diabetes\\_population\\\\\n",
       "\\hline\n",
       "\t American Samoa                                        & ASM                                                   & Diabetes prevalence (\\% of population ages 20 to 79) & SH.STA.DIAB.ZS                                        & NA                                                    &   55641                                               & NA                                                   \\\\\n",
       "\t Faroe Islands                                         & FRO                                                   & Diabetes prevalence (\\% of population ages 20 to 79) & SH.STA.DIAB.ZS                                        & NA                                                    &   49290                                               & NA                                                   \\\\\n",
       "\t Gibraltar                                             & GIB                                                   & Diabetes prevalence (\\% of population ages 20 to 79) & SH.STA.DIAB.ZS                                        & NA                                                    &   34571                                               & NA                                                   \\\\\n",
       "\t Isle of Man                                           & IMN                                                   & Diabetes prevalence (\\% of population ages 20 to 79) & SH.STA.DIAB.ZS                                        & NA                                                    &   84287                                               & NA                                                   \\\\\n",
       "\t Macao SAR, China                                      & MAC                                                   & Diabetes prevalence (\\% of population ages 20 to 79) & SH.STA.DIAB.ZS                                        & NA                                                    &  622567                                               & NA                                                   \\\\\n",
       "\t St. Martin (French part)                              & MAF                                                   & Diabetes prevalence (\\% of population ages 20 to 79) & SH.STA.DIAB.ZS                                        & NA                                                    &   32125                                               & NA                                                   \\\\\n",
       "\t Northern Mariana Islands                              & MNP                                                   & Diabetes prevalence (\\% of population ages 20 to 79) & SH.STA.DIAB.ZS                                        & NA                                                    &   55144                                               & NA                                                   \\\\\n",
       "\t Sint Maarten (Dutch part)                             & SXM                                                   & Diabetes prevalence (\\% of population ages 20 to 79) & SH.STA.DIAB.ZS                                        & NA                                                    &   41109                                               & NA                                                   \\\\\n",
       "\t Turks and Caicos Islands                              & TCA                                                   & Diabetes prevalence (\\% of population ages 20 to 79) & SH.STA.DIAB.ZS                                        & NA                                                    &   35446                                               & NA                                                   \\\\\n",
       "\t Kosovo                                                & XKX                                                   & Diabetes prevalence (\\% of population ages 20 to 79) & SH.STA.DIAB.ZS                                        & NA                                                    & 1830700                                               & NA                                                   \\\\\n",
       "\\end{tabular}\n"
      ],
      "text/markdown": [
       "\n",
       "Country Name | Country Code | Indicator Name | Indicator Code | Diabetes_prevalance_2017 | Population_2017 | New_diabetes_population | \n",
       "|---|---|---|---|---|---|---|---|---|---|\n",
       "| American Samoa                                      | ASM                                                 | Diabetes prevalence (% of population ages 20 to 79) | SH.STA.DIAB.ZS                                      | NA                                                  |   55641                                             | NA                                                  | \n",
       "| Faroe Islands                                       | FRO                                                 | Diabetes prevalence (% of population ages 20 to 79) | SH.STA.DIAB.ZS                                      | NA                                                  |   49290                                             | NA                                                  | \n",
       "| Gibraltar                                           | GIB                                                 | Diabetes prevalence (% of population ages 20 to 79) | SH.STA.DIAB.ZS                                      | NA                                                  |   34571                                             | NA                                                  | \n",
       "| Isle of Man                                         | IMN                                                 | Diabetes prevalence (% of population ages 20 to 79) | SH.STA.DIAB.ZS                                      | NA                                                  |   84287                                             | NA                                                  | \n",
       "| Macao SAR, China                                    | MAC                                                 | Diabetes prevalence (% of population ages 20 to 79) | SH.STA.DIAB.ZS                                      | NA                                                  |  622567                                             | NA                                                  | \n",
       "| St. Martin (French part)                            | MAF                                                 | Diabetes prevalence (% of population ages 20 to 79) | SH.STA.DIAB.ZS                                      | NA                                                  |   32125                                             | NA                                                  | \n",
       "| Northern Mariana Islands                            | MNP                                                 | Diabetes prevalence (% of population ages 20 to 79) | SH.STA.DIAB.ZS                                      | NA                                                  |   55144                                             | NA                                                  | \n",
       "| Sint Maarten (Dutch part)                           | SXM                                                 | Diabetes prevalence (% of population ages 20 to 79) | SH.STA.DIAB.ZS                                      | NA                                                  |   41109                                             | NA                                                  | \n",
       "| Turks and Caicos Islands                            | TCA                                                 | Diabetes prevalence (% of population ages 20 to 79) | SH.STA.DIAB.ZS                                      | NA                                                  |   35446                                             | NA                                                  | \n",
       "| Kosovo                                              | XKX                                                 | Diabetes prevalence (% of population ages 20 to 79) | SH.STA.DIAB.ZS                                      | NA                                                  | 1830700                                             | NA                                                  | \n",
       "\n",
       "\n"
      ],
      "text/plain": [
       "   Country Name              Country Code\n",
       "1  American Samoa            ASM         \n",
       "2  Faroe Islands             FRO         \n",
       "3  Gibraltar                 GIB         \n",
       "4  Isle of Man               IMN         \n",
       "5  Macao SAR, China          MAC         \n",
       "6  St. Martin (French part)  MAF         \n",
       "7  Northern Mariana Islands  MNP         \n",
       "8  Sint Maarten (Dutch part) SXM         \n",
       "9  Turks and Caicos Islands  TCA         \n",
       "10 Kosovo                    XKX         \n",
       "   Indicator Name                                      Indicator Code\n",
       "1  Diabetes prevalence (% of population ages 20 to 79) SH.STA.DIAB.ZS\n",
       "2  Diabetes prevalence (% of population ages 20 to 79) SH.STA.DIAB.ZS\n",
       "3  Diabetes prevalence (% of population ages 20 to 79) SH.STA.DIAB.ZS\n",
       "4  Diabetes prevalence (% of population ages 20 to 79) SH.STA.DIAB.ZS\n",
       "5  Diabetes prevalence (% of population ages 20 to 79) SH.STA.DIAB.ZS\n",
       "6  Diabetes prevalence (% of population ages 20 to 79) SH.STA.DIAB.ZS\n",
       "7  Diabetes prevalence (% of population ages 20 to 79) SH.STA.DIAB.ZS\n",
       "8  Diabetes prevalence (% of population ages 20 to 79) SH.STA.DIAB.ZS\n",
       "9  Diabetes prevalence (% of population ages 20 to 79) SH.STA.DIAB.ZS\n",
       "10 Diabetes prevalence (% of population ages 20 to 79) SH.STA.DIAB.ZS\n",
       "   Diabetes_prevalance_2017 Population_2017 New_diabetes_population\n",
       "1  NA                         55641         NA                     \n",
       "2  NA                         49290         NA                     \n",
       "3  NA                         34571         NA                     \n",
       "4  NA                         84287         NA                     \n",
       "5  NA                        622567         NA                     \n",
       "6  NA                         32125         NA                     \n",
       "7  NA                         55144         NA                     \n",
       "8  NA                         41109         NA                     \n",
       "9  NA                         35446         NA                     \n",
       "10 NA                       1830700         NA                     "
      ]
     },
     "metadata": {},
     "output_type": "display_data"
    }
   ],
   "source": [
    "diabetes_free_countries"
   ]
  },
  {
   "cell_type": "code",
   "execution_count": 37,
   "metadata": {},
   "outputs": [],
   "source": [
    "diabetes_free_countries<-diabetes_free_countries %>% replace_na(list(Diabetes_prevalance_2017=0,New_diabetes_population=0))\n",
    "diabetes_population<-diabetes_population %>% replace_na(list(Diabetes_prevalance_2017=0,New_diabetes_population=0))"
   ]
  },
  {
   "cell_type": "code",
   "execution_count": 38,
   "metadata": {},
   "outputs": [
    {
     "data": {},
     "metadata": {},
     "output_type": "display_data"
    },
    {
     "data": {
      "image/png": "[encoded data removed]",
      "text/plain": [
       "plot without title"
      ]
     },
     "metadata": {},
     "output_type": "display_data"
    }
   ],
   "source": [
    "diabetes_population %>% vis_miss()"
   ]
  },
  {
   "cell_type": "code",
   "execution_count": null,
   "metadata": {},
   "outputs": [],
   "source": []
  }
 ],
 "metadata": {
  "kernelspec": {
   "display_name": "R",
   "language": "R",
   "name": "ir"
  },
  "language_info": {
   "codemirror_mode": "r",
   "file_extension": ".r",
   "mimetype": "text/x-r-source",
   "name": "R",
   "pygments_lexer": "r",
   "version": "3.5.1"
  }
 },
 "nbformat": 4,
 "nbformat_minor": 2
}
